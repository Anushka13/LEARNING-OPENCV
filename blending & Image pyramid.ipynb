{
 "cells": [
  {
   "cell_type": "code",
   "execution_count": 13,
   "metadata": {},
   "outputs": [],
   "source": [
    "### IMAGE PYRAMIDS \n",
    "import cv2\n",
    "img=cv2.imread('C:/Users/HP/Pictures/lena.jpg')\n",
    "layer=img.copy()\n",
    "gp=[layer]\n",
    "for i in range(3):\n",
    "    layer=cv2.pyrDown(layer) #pyrUp and pyrDown are for gaussian pyramid\n",
    "    #cv2.imshow(str(i),layer)\n",
    "    gp.append(layer)\n",
    "lp=[layer]\n",
    "for i in range(2,0,-1):\n",
    "    extended_version=cv2.pyrUp(gp[i])\n",
    "    laplacian=cv2.subtract(gp[i-1],extended_version)  #laplacian pyramid is the difference b/w gaussian pyramid img and the \n",
    "    cv2.imshow(str(i),laplacian)  #extended gaussian pyramid image of one level above\n",
    "cv2.waitKey(0)\n",
    "cv2.destroyAllWindows()\n",
    "\n",
    "#both pyramids are used for blending and reconstruction of images"
   ]
  },
  {
   "cell_type": "code",
   "execution_count": 38,
   "metadata": {},
   "outputs": [],
   "source": [
    "# Blending of 2 images\n",
    "import cv2\n",
    "import numpy as np\n",
    "apple=cv2.imread('C:/Users/HP/Pictures/apple.jpg')\n",
    "orange=cv2.imread('C:/Users/HP/Pictures/orange.jpg')\n",
    "apple_cp=apple.copy()\n",
    "orange_cp=orange.copy()\n",
    "gp_apple=[apple_cp]\n",
    "gp_orange=[orange_cp]\n",
    "for i in range(6):\n",
    "    apple_cp=cv2.pyrDown(apple_cp)\n",
    "    orange_cp=cv2.pyrDown(orange_cp)\n",
    "    gp_apple.append(apple_cp)\n",
    "    gp_orange.append(orange_cp)\n",
    "#print(gp_orange[0].shape)\n",
    "lp_apple=[apple_cp]\n",
    "lp_orange=[orange_cp]\n",
    "for i in range(5,0,-1):\n",
    "    extended_ver_apple=cv2.pyrUp(gp_apple[i])\n",
    "    extended_ver_orange=cv2.pyrUp(gp_orange[i])\n",
    "    laplacian_apple=cv2.subtract(gp_apple[i-1],extended_ver_apple)\n",
    "    laplacian_orange=cv2.subtract(gp_orange[i-1],extended_ver_orange)\n",
    "    lp_apple.append(laplacian_apple)\n",
    "    lp_orange.append(laplacian_orange)\n",
    "#print(lp_orange[0].shape)\n",
    "#now add both images\n",
    "apple_orange_pyramid=[]\n",
    "n=0\n",
    "for laplacian_apple,laplacian_orange in zip(lp_apple,lp_orange):\n",
    "    col,row,ch=laplacian_apple.shape\n",
    "    n+=1\n",
    "    comb_img=np.hstack((laplacian_apple[:, 0:int(col/2)],laplacian_orange[:, int(col/2):]))\n",
    "    apple_orange_pyramid.append(comb_img)\n",
    "   # print(comb_img.shape)\n",
    "#print('sdfgdg')    \n",
    "comb_img=apple_orange_pyramid[0]    \n",
    "comb_img=cv2.pyrUp(comb_img)\n",
    "#image reconstruction\n",
    "for i in range(1,6):\n",
    "    comb_img=cv2.pyrUp(comb_img)\n",
    "    comb_img=cv2.add(apple_orange_pyramid[i],comb_img)\n",
    "    cv2.imshow('final image',comb_img)\n",
    "cv2.waitKey(0)\n",
    "cv2.destroyAllWindows()    "
   ]
  },
  {
   "cell_type": "code",
   "execution_count": null,
   "metadata": {},
   "outputs": [],
   "source": []
  }
 ],
 "metadata": {
  "kernelspec": {
   "display_name": "Python 3",
   "language": "python",
   "name": "python3"
  },
  "language_info": {
   "codemirror_mode": {
    "name": "ipython",
    "version": 3
   },
   "file_extension": ".py",
   "mimetype": "text/x-python",
   "name": "python",
   "nbconvert_exporter": "python",
   "pygments_lexer": "ipython3",
   "version": "3.8.5"
  }
 },
 "nbformat": 4,
 "nbformat_minor": 4
}
