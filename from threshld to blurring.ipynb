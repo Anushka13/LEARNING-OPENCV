{
 "cells": [
  {
   "cell_type": "code",
   "execution_count": 16,
   "metadata": {},
   "outputs": [],
   "source": [
    "#Adaptive threshold\n",
    "\n",
    "import cv2\n",
    "img=cv2.imread('C:/Users/HP/Pictures/sudoku.png',0)\n",
    "_,th1=cv2.threshold(img,127,255,cv2.THRESH_BINARY)\n",
    "th2=cv2.adaptiveThreshold(img,225,cv2.ADAPTIVE_THRESH_MEAN_C,cv2.THRESH_BINARY,11,12)\n",
    "th3=cv2.adaptiveThreshold(img,225,cv2.ADAPTIVE_THRESH_GAUSSIAN_C,cv2.THRESH_BINARY,5,3)\n",
    "cv2.imshow('th3',th3)\n",
    "cv2.imshow('th2',th2)\n",
    "cv2.imshow('th1',th1)\n",
    "cv2.waitKey(0)\n",
    "cv2.destroyAllWindows()"
   ]
  },
  {
   "cell_type": "code",
   "execution_count": 28,
   "metadata": {},
   "outputs": [],
   "source": [
    "import  cv2\n",
    "from matplotlib import pyplot as plt\n",
    "#%matplotlib qt  #to show result in new window\n",
    "img=cv2.imread('C:/Users/HP/Pictures/gradient.png',0)\n",
    "_,th1=cv2.threshold(img,127,225,cv2.THRESH_BINARY)\n",
    "_,th2=cv2.threshold(img,127,255,cv2.THRESH_BINARY_INV)\n",
    "_,th3=cv2.threshold(img,127,255,cv2.THRESH_TRUNC)\n",
    "_,th4=cv2.threshold(img,127,255,cv2.THRESH_TOZERO)\n",
    "_,th5=cv2.threshold(img,127,255,cv2.THRESH_TOZERO_INV)\n",
    "images=[img,th1,th2,th3,th4,th5]\n",
    "titles=['original','binary','binaryInv','trunc','tozero','tozeroInv']\n",
    "for i in range(6):\n",
    "    plt.subplot(2,3,i+1),plt.imshow(images[i],'gray')\n",
    "    plt.title(titles[i])\n",
    "    plt.xticks([]),plt.yticks([])\n",
    "plt.show()"
   ]
  },
  {
   "cell_type": "code",
   "execution_count": 39,
   "metadata": {},
   "outputs": [],
   "source": [
    "### MORPHOLOGICAL TRANSFORMATIONS\n",
    "import cv2\n",
    "import numpy as np\n",
    "from matplotlib import pyplot as plt\n",
    "img=cv2.imread('C:/Users/HP/Pictures/smarties.png',cv2.IMREAD_GRAYSCALE)\n",
    "_,mask=cv2.threshold(img,220,255,cv2.THRESH_BINARY_INV)\n",
    "kernal=np.ones([2,2],np.uint8)\n",
    "dilation=cv2.dilate(mask,kernal,iterations=2)\n",
    "erosion=cv2.erode(mask,kernal,iterations=1)\n",
    "opening=cv2.morphologyEx(mask,cv2.MORPH_OPEN,kernal) #erosion then dilation\n",
    "closing=cv2.morphologyEx(mask,cv2.MORPH_CLOSE,kernal) #dilation then erosion\n",
    "th=cv2.morphologyEx(mask,cv2.MORPH_TOPHAT,kernal) #diff between imagei.e. mask and the opening\n",
    "mg=cv2.morphologyEx(mask,cv2.MORPH_GRADIENT,kernal)  # diff b/w erosiona nd dilation\n",
    "images=[mask,dilation,erosion,opening,closing,th,mg]\n",
    "for i in range(7):\n",
    "        plt.subplot(2,4,i+1), plt.imshow(images[i],'gray')\n",
    "        plt.xticks([]),plt.yticks([]) # REMOVES \n",
    "plt.show()\n",
    "        "
   ]
  },
  {
   "cell_type": "code",
   "execution_count": 58,
   "metadata": {},
   "outputs": [],
   "source": [
    "## BLURRING OR SMOOTHENING\n",
    "\n",
    "import cv2\n",
    "import numpy as np\n",
    "from matplotlib import pyplot as plt\n",
    "img=cv2.imread(\"C:/Users/HP/Pictures/smarties.png\")\n",
    "img=cv2.cvtColor(img,cv2.COLOR_BGR2RGB)\n",
    "kernal=np.ones([5,5],np.uint8)/25# homogenous filter K=(1/height*width)*array\n",
    "homo_filt=cv2.filter2D(img,-1,kernal)\n",
    "blur=cv2.blur(img,(5,5))\n",
    "gblur=cv2.GaussianBlur(img,(5,5),9)\n",
    "mblur=cv2.medianBlur(img,3) #better for salt and pepper noise\n",
    "biblur=cv2.bilateralFilter(img,9,75,75)#smoothening but maintaining sharp edges\n",
    "images=[img,homo_filt,blur,gblur,mblur,biblur]\n",
    "title=['original','homo_filt','blur','gblur','mblur','biblur']\n",
    "for i in range(6):\n",
    "    plt.subplot(2,3,i+1),plt.imshow(images[i],'gray')\n",
    "    plt.title(title[i])\n",
    "    plt.xticks([]),plt.yticks([])\n",
    "plt.show()"
   ]
  },
  {
   "cell_type": "code",
   "execution_count": 62,
   "metadata": {},
   "outputs": [],
   "source": [
    "# IMAGE GRADIENT\n",
    "import cv2\n",
    "import numpy as np\n",
    "from matplotlib import pyplot as plt\n",
    "img=cv2.imread(\"C:/Users/HP/Pictures/sudoku.png\",cv2.IMREAD_GRAYSCALE)\n",
    "lap=cv2.Laplacian(img,cv2.CV_64F,ksize=3)\n",
    "lap=np.uint8(np.absolute(lap))\n",
    "sobelX=cv2.Sobel(img,cv2.CV_64F,1,0)\n",
    "sobelY=cv2.Sobel(img,cv2.CV_64F,0,1)\n",
    "sobelX=np.uint8(np.absolute(sobelX))\n",
    "sobelY=np.uint8(np.absolute(sobelY))\n",
    "sobel_com=cv2.bitwise_or(sobelX,sobelY)\n",
    "images=[img,lap,sobelX,sobelY,sobel_com]\n",
    "titles=['original','lap','sobelX','sobelY','sobel_com']\n",
    "for i in range(5):\n",
    "    plt.subplot(2,3,i+1), plt.imshow(images[i],'gray')\n",
    "    plt.title(titles[i])\n",
    "    plt.xticks([]),plt.yticks([])\n",
    "plt.show()\n",
    "\n"
   ]
  },
  {
   "cell_type": "code",
   "execution_count": null,
   "metadata": {},
   "outputs": [],
   "source": []
  }
 ],
 "metadata": {
  "kernelspec": {
   "display_name": "Python 3",
   "language": "python",
   "name": "python3"
  },
  "language_info": {
   "codemirror_mode": {
    "name": "ipython",
    "version": 3
   },
   "file_extension": ".py",
   "mimetype": "text/x-python",
   "name": "python",
   "nbconvert_exporter": "python",
   "pygments_lexer": "ipython3",
   "version": "3.8.5"
  }
 },
 "nbformat": 4,
 "nbformat_minor": 4
}
