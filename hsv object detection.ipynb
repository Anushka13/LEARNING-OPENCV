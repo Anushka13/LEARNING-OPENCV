{
 "cells": [
  {
   "cell_type": "code",
   "execution_count": 4,
   "metadata": {},
   "outputs": [],
   "source": [
    "###   FOR IMAGE\n",
    "\n",
    "\n",
    "import cv2\n",
    "import numpy as np\n",
    "def nothing(x):\n",
    "    pass\n",
    "cv2.namedWindow('track')\n",
    "cv2.createTrackbar('LH','track',0,255,nothing)\n",
    "cv2.createTrackbar('LS','track',0,255,nothing)\n",
    "cv2.createTrackbar('LV','track',0,255,nothing)\n",
    "cv2.createTrackbar('UH','track',255,255,nothing)\n",
    "cv2.createTrackbar('US','track',255,255,nothing)\n",
    "cv2.createTrackbar('UV','track',255,255,nothing)\n",
    "while True:\n",
    "    img=cv2.imread('C:/Users/HP/Pictures/smarties.png')\n",
    "    hsv=cv2.cvtColor(img,cv2.COLOR_BGR2HSV)\n",
    "    l_h=cv2.getTrackbarPos('LH','track')\n",
    "    l_s=cv2.getTrackbarPos('LS','track')\n",
    "    l_v=cv2.getTrackbarPos('LV','track')\n",
    "    u_h=cv2.getTrackbarPos('UH','track')\n",
    "    u_s=cv2.getTrackbarPos('US','track')\n",
    "    u_v=cv2.getTrackbarPos('UV','track')\n",
    "   \n",
    "    l_b=np.array([l_h,l_s,l_v])\n",
    "    u_b=np.array([u_h,u_s,u_v])\n",
    "    mask=cv2.inRange(hsv,l_b,u_b)\n",
    "    res=cv2.bitwise_and(img,img,mask=mask)\n",
    "    cv2.imshow('res',res)\n",
    "    cv2.imshow('mask',mask)\n",
    "    cv2.imshow('frame',img)    \n",
    "    key=cv2.waitKey(1)\n",
    "    if key==27:\n",
    "        break\n",
    "cv2.destroyAllWindows()"
   ]
  },
  {
   "cell_type": "code",
   "execution_count": 5,
   "metadata": {},
   "outputs": [],
   "source": [
    "###FOR VIDEO\n",
    "import cv2\n",
    "import numpy as np\n",
    "def nothing(x):\n",
    "    pass\n",
    "cv2.namedWindow('track')\n",
    "cv2.createTrackbar('LH','track',0,255,nothing)\n",
    "cv2.createTrackbar('LS','track',0,255,nothing)\n",
    "cv2.createTrackbar('LV','track',0,255,nothing)\n",
    "cv2.createTrackbar('UH','track',255,255,nothing)\n",
    "cv2.createTrackbar('US','track',255,255,nothing)\n",
    "cv2.createTrackbar('UV','track',255,255,nothing)\n",
    "cap=cv2.VideoCapture(0)\n",
    "while True:\n",
    "    _,frame=cap.read()\n",
    "    hsv=cv2.cvtColor(frame,cv2.COLOR_BGR2HSV)\n",
    "    l_h=cv2.getTrackbarPos('LH','track')\n",
    "    l_s=cv2.getTrackbarPos('LS','track')\n",
    "    l_v=cv2.getTrackbarPos('LV','track')\n",
    "    u_h=cv2.getTrackbarPos('UH','track')\n",
    "    u_s=cv2.getTrackbarPos('US','track')\n",
    "    u_v=cv2.getTrackbarPos('UV','track')\n",
    "\n",
    "    l_b=np.array([l_h,l_s,l_v])\n",
    "    u_b=np.array([u_h,u_s,u_v])\n",
    "    mask=cv2.inRange(frame,l_b,u_b)\n",
    "    res=cv2.bitwise_and(frame,frame,mask=mask)\n",
    "    cv2.imshow('frame',frame)\n",
    "    cv2.imshow('mask',mask)\n",
    "    cv2.imshow('res',res)\n",
    "    key=cv2.waitKey(1)\n",
    "    if key==27:\n",
    "        break\n",
    "cap.release()\n",
    "cv2.destroyAllWindows()"
   ]
  },
  {
   "cell_type": "code",
   "execution_count": null,
   "metadata": {},
   "outputs": [],
   "source": []
  }
 ],
 "metadata": {
  "kernelspec": {
   "display_name": "Python 3",
   "language": "python",
   "name": "python3"
  },
  "language_info": {
   "codemirror_mode": {
    "name": "ipython",
    "version": 3
   },
   "file_extension": ".py",
   "mimetype": "text/x-python",
   "name": "python",
   "nbconvert_exporter": "python",
   "pygments_lexer": "ipython3",
   "version": "3.8.5"
  }
 },
 "nbformat": 4,
 "nbformat_minor": 4
}
