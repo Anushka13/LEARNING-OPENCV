{
 "cells": [
  {
   "cell_type": "code",
   "execution_count": 1,
   "metadata": {},
   "outputs": [],
   "source": [
    "#SIMPLE HOUGH LINE TRANSFORM\n",
    "import cv2\n",
    "import numpy as np\n",
    "img=cv2.imread('C:/Users/HP/Pictures/sudoku.png')\n",
    "img_gray=cv2.cvtColor(img,cv2.COLOR_BGR2GRAY)\n",
    "edge=cv2.Canny(img_gray,100,200)\n",
    "lines=cv2.HoughLines(edge,1,np.pi/180,150)\n",
    "cv2.imshow('canny',edge)\n",
    "#print(lines)\n",
    "for line in lines:\n",
    "    rho,theta=line[0]\n",
    "    a=np.cos(theta)\n",
    "    b=np.sin(theta)\n",
    "    x0=rho*a\n",
    "    y0=rho*b\n",
    "    x1=int(x0+1000*(-b))\n",
    "    y1=int(y0+1000*(a))\n",
    "    x2=int(x0-1000*(-b))\n",
    "    y2=int(y0-1000*(a))\n",
    "    img=cv2.line(img,(x1,y1),(x2,y2),(0,0,255),2)\n",
    "cv2.imshow('houghline',img)\n",
    "cv2.waitKey(0)\n",
    "cv2.destroyAllWindows()"
   ]
  },
  {
   "cell_type": "code",
   "execution_count": 10,
   "metadata": {},
   "outputs": [],
   "source": [
    "#PROBABLISTIC HOUGH LINE \n",
    "import cv2\n",
    "import numpy as np\n",
    "img=cv2.imread('C:/Users/HP/Pictures/sudoku.png')\n",
    "img_gray=cv2.cvtColor(img,cv2.COLOR_BGR2GRAY)\n",
    "edge=cv2.Canny(img_gray,30,220)\n",
    "lines=cv2.HoughLinesP(edge,1,np.pi/180,150,minLineLength=100,maxLineGap=10)\n",
    "cv2.imshow('canny',edge)\n",
    "#print(lines)\n",
    "for line in lines:\n",
    "    x1,y1,x2,y2=line[0]\n",
    "    img=cv2.line(img,(x1,y1),(x2,y2),(0,0,255),2)\n",
    "cv2.imshow('houghline',img)\n",
    "cv2.waitKey(0)\n",
    "cv2.destroyAllWindows()\n",
    "    "
   ]
  },
  {
   "cell_type": "code",
   "execution_count": 28,
   "metadata": {},
   "outputs": [],
   "source": [
    "#HOUGH CIRCLES\n",
    "import cv2\n",
    "import numpy as np\n",
    "img=cv2.imread('C:/Users/HP/Pictures/smarties.png')\n",
    "img_copy=img.copy()\n",
    "gray=cv2.cvtColor(img,cv2.COLOR_BGR2GRAY)\n",
    "img_blur=cv2.medianBlur(gray,5)\n",
    "circles=cv2.HoughCircles(img_blur,cv2.HOUGH_GRADIENT,1,15,param1=50,param2=30,minRadius=0,maxRadius=50)\n",
    "#print(circles)\n",
    "circles=np.uint16(np.around(circles))\n",
    "#print(circles[0])\n",
    "for (x,y,r) in circles[0][:]:\n",
    "    cir=cv2.circle(img_copy,(x,y),r,(0,255,0),2)\n",
    "cv2.imshow('frame',img_copy)\n",
    "cv2.imshow('frame1',img)\n",
    "cv2.waitKey(0)\n",
    "cv2.destroyAllWindows()"
   ]
  },
  {
   "cell_type": "code",
   "execution_count": 15,
   "metadata": {},
   "outputs": [],
   "source": [
    "\n",
    "import numpy as np\n",
    "import cv2\n",
    "\n",
    "# Read image\n",
    "img = cv2.imread('C:/Users/HP/Pictures/opencv-logo.png')\n",
    "# Smooth it\n",
    "img = cv2.medianBlur(img,3)\n",
    "img_copy = img.copy()\n",
    "# Convert to greyscale\n",
    "img_gray = cv2.cvtColor(img_copy,cv2.COLOR_BGR2GRAY)\n",
    "# Apply Hough transform to greyscale image\n",
    "circles = cv2.HoughCircles(img_gray,cv2.HOUGH_GRADIENT,1,20,\n",
    "                     param1=60,param2=40,minRadius=0,maxRadius=0)\n",
    "circles = np.uint16(np.around(circles))\n",
    "# Draw the circles\n",
    "for i in circles[0,:]:\n",
    "    # draw the outer circle\n",
    "    cv2.circle(img,(i[0],i[1]),i[2],(0,255,0),2)\n",
    "    # draw the center of the circle\n",
    "    cv2.circle(img,(i[0],i[1]),2,(0,0,255),3)\n",
    "cv2.imshow('detected circles',img)\n",
    "cv2.waitKey(0)\n",
    "cv2.destroyAllWindows()\n"
   ]
  },
  {
   "cell_type": "code",
   "execution_count": 29,
   "metadata": {},
   "outputs": [],
   "source": []
  },
  {
   "cell_type": "code",
   "execution_count": null,
   "metadata": {},
   "outputs": [],
   "source": []
  }
 ],
 "metadata": {
  "kernelspec": {
   "display_name": "Python 3",
   "language": "python",
   "name": "python3"
  },
  "language_info": {
   "codemirror_mode": {
    "name": "ipython",
    "version": 3
   },
   "file_extension": ".py",
   "mimetype": "text/x-python",
   "name": "python",
   "nbconvert_exporter": "python",
   "pygments_lexer": "ipython3",
   "version": "3.8.5"
  }
 },
 "nbformat": 4,
 "nbformat_minor": 4
}
